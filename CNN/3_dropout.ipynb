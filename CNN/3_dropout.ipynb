{
 "cells": [
  {
   "cell_type": "code",
   "execution_count": 1,
   "id": "be749143-84c1-4ea0-8472-764671348c82",
   "metadata": {},
   "outputs": [],
   "source": [
    "import os\n",
    "import shutil\n",
    "import random as rd\n",
    "import numpy as np\n",
    "import matplotlib.pyplot as plt\n",
    "\n",
    "import tensorflow as tf\n",
    "from tensorflow.keras.optimizers import RMSprop\n",
    "from tensorflow.keras.preprocessing.image import ImageDataGenerator\n",
    "from tensorflow.keras.preprocessing import image"
   ]
  },
  {
   "cell_type": "markdown",
   "id": "3f09c7b2-250f-40d2-8420-5a1ebdeb4877",
   "metadata": {},
   "source": [
    "## Dataset"
   ]
  },
  {
   "cell_type": "code",
   "execution_count": 2,
   "id": "0f48d50e-6d9a-4494-8e09-ad9281ebf78c",
   "metadata": {},
   "outputs": [
    {
     "name": "stdout",
     "output_type": "stream",
     "text": [
      "Total healthy images: 409\n",
      "Total damaged images: 840\n"
     ]
    }
   ],
   "source": [
    "healthy = os.listdir('POTATOES/healthy')\n",
    "damaged = os.listdir('POTATOES/damaged')\n",
    "\n",
    "rd.shuffle(healthy)\n",
    "rd.shuffle(damaged)\n",
    "\n",
    "print('Total healthy images:', len(healthy))\n",
    "print('Total damaged images:', len(damaged))"
   ]
  },
  {
   "cell_type": "code",
   "execution_count": 3,
   "id": "cbb058a6-35fc-4fff-95a2-e2741874c4ec",
   "metadata": {},
   "outputs": [],
   "source": [
    "train_size = 350\n",
    "test_size = 50\n",
    "validation_size = 9\n",
    "\n",
    "dataset = {\n",
    "    'train': {\n",
    "        'healthy': healthy[:train_size],\n",
    "        'damaged': damaged[:train_size],\n",
    "    },\n",
    "    'test': {\n",
    "        'healthy': healthy[train_size:train_size+test_size],\n",
    "        'damaged': damaged[train_size:train_size+test_size],\n",
    "    },\n",
    "    'validation': {\n",
    "        'healthy': healthy[train_size+test_size:train_size+test_size+validation_size],\n",
    "        'damaged': damaged[train_size+test_size:train_size+test_size+validation_size],\n",
    "    },\n",
    "}"
   ]
  },
  {
   "cell_type": "code",
   "execution_count": 4,
   "id": "84d84821-e8cb-4fe1-b28b-dbb66ea73672",
   "metadata": {},
   "outputs": [],
   "source": [
    "# Define root directory\n",
    "src_dir = './POTATOES'\n",
    "dst_dir = './dataset'\n",
    "\n",
    "\n",
    "# Empry directory\n",
    "if os.path.exists(dst_dir): shutil.rmtree(dst_dir)\n",
    "\n",
    "for group in ['train', 'test', 'validation']:\n",
    "    for label in ['healthy', 'damaged']:\n",
    "        # Generate paths\n",
    "        os.makedirs(dst_dir + '/' + group + '/' + label)\n",
    "        # Create new dataset\n",
    "        for filename in dataset[group][label]:\n",
    "            shutil.copy(\n",
    "                src_dir + '/' + label + '/' + filename,\n",
    "                dst_dir + '/' + group + '/' + label + '/' + filename,\n",
    "            )"
   ]
  },
  {
   "cell_type": "code",
   "execution_count": 5,
   "id": "7897cd5c-9b65-49a9-9572-76dfcc647769",
   "metadata": {},
   "outputs": [],
   "source": [
    "# Training set with data augmentation\n",
    "train_datagen = ImageDataGenerator(rescale = 1.0/255.,\n",
    "                                   rotation_range = 40,\n",
    "                                   width_shift_range = 0.1,\n",
    "                                   height_shift_range = 0.1,\n",
    "                                   # shear_range = 0.2,\n",
    "                                   # zoom_range = 0.2,\n",
    "                                   horizontal_flip = True,\n",
    "                                   vertical_flip = True,\n",
    "                                   fill_mode = 'nearest')\n",
    "\n",
    "# Test set just rescaled\n",
    "test_datagen  = ImageDataGenerator( rescale = 1.0/255. )"
   ]
  },
  {
   "cell_type": "code",
   "execution_count": 6,
   "id": "2f01b0cb-b6a6-43ce-98a4-44617e97f1f7",
   "metadata": {},
   "outputs": [
    {
     "name": "stdout",
     "output_type": "stream",
     "text": [
      "Found 700 images belonging to 2 classes.\n",
      "Found 100 images belonging to 2 classes.\n"
     ]
    }
   ],
   "source": [
    "batch_size = 10\n",
    "# Flow training images in batches of 10 using train_datagen generator\n",
    "train_generator = train_datagen.flow_from_directory(directory=dst_dir + '/train',\n",
    "                                                    class_mode='binary',\n",
    "                                                    batch_size=batch_size,\n",
    "                                                    target_size=(250, 250))\n",
    "\n",
    "# Flow testing images in batches of 10 using test_datagen generator\n",
    "test_generator =  train_datagen.flow_from_directory(directory=dst_dir + '/test',\n",
    "                                                    class_mode  = 'binary',\n",
    "                                                    batch_size=batch_size,\n",
    "                                                    target_size = (250, 250))"
   ]
  },
  {
   "cell_type": "markdown",
   "id": "a9701938-be0f-4dde-929c-e88e2065be6f",
   "metadata": {},
   "source": [
    "## Model"
   ]
  },
  {
   "cell_type": "code",
   "execution_count": 7,
   "id": "4fe95336-aa82-4ebe-a753-afaf06b52ffb",
   "metadata": {},
   "outputs": [],
   "source": [
    "model = tf.keras.models.Sequential([\n",
    "    # Conv layers\n",
    "    tf.keras.layers.Conv2D(8, (3,3), activation='relu', padding='same', input_shape=(250,250,3)),\n",
    "    tf.keras.layers.Conv2D(8, (3,3), activation='relu', padding='same'),\n",
    "    tf.keras.layers.Dropout(0.5),\n",
    "    tf.keras.layers.MaxPooling2D(2,2),\n",
    "    tf.keras.layers.Conv2D(16, (3,3), activation='relu', padding='same'),\n",
    "    tf.keras.layers.Conv2D(16, (3,3), activation='relu', padding='same'),\n",
    "    tf.keras.layers.Dropout(0.5),\n",
    "    tf.keras.layers.MaxPooling2D(2,2),\n",
    "    tf.keras.layers.Conv2D(32, (3,3), activation='relu', padding='same'),\n",
    "    tf.keras.layers.Conv2D(32, (3,3), activation='relu', padding='same'),\n",
    "    tf.keras.layers.Dropout(0.5),\n",
    "    tf.keras.layers.MaxPooling2D(2,2),\n",
    "    tf.keras.layers.Conv2D(64, (3,3), activation='relu', padding='same'),\n",
    "    tf.keras.layers.Conv2D(64, (3,3), activation='relu', padding='same'),\n",
    "    tf.keras.layers.Dropout(0.2),\n",
    "    tf.keras.layers.MaxPooling2D(2,2),\n",
    "    # Flatten layer\n",
    "    tf.keras.layers.Flatten(),\n",
    "    # Fully connected layers\n",
    "    tf.keras.layers.Dense(128, activation='relu'),\n",
    "    tf.keras.layers.Dropout(0.2),\n",
    "    tf.keras.layers.Dense(64, activation='relu'),\n",
    "    tf.keras.layers.Dropout(0.2),\n",
    "    tf.keras.layers.Dense(32, activation='relu'),\n",
    "    tf.keras.layers.Dropout(0.2),\n",
    "    # Output neuron\n",
    "    tf.keras.layers.Dense(1, activation='sigmoid'),\n",
    "    #TODO tf.keras.layers.Dense(1, activation='linear') or scale parameter\n",
    "])"
   ]
  },
  {
   "cell_type": "code",
   "execution_count": 8,
   "id": "aeb861d4-e049-4e07-8a17-afb0b75a1eab",
   "metadata": {},
   "outputs": [
    {
     "name": "stdout",
     "output_type": "stream",
     "text": [
      "Model: \"sequential\"\n",
      "_________________________________________________________________\n",
      " Layer (type)                Output Shape              Param #   \n",
      "=================================================================\n",
      " conv2d (Conv2D)             (None, 250, 250, 8)       224       \n",
      "                                                                 \n",
      " conv2d_1 (Conv2D)           (None, 250, 250, 8)       584       \n",
      "                                                                 \n",
      " dropout (Dropout)           (None, 250, 250, 8)       0         \n",
      "                                                                 \n",
      " max_pooling2d (MaxPooling2D  (None, 125, 125, 8)      0         \n",
      " )                                                               \n",
      "                                                                 \n",
      " conv2d_2 (Conv2D)           (None, 125, 125, 16)      1168      \n",
      "                                                                 \n",
      " conv2d_3 (Conv2D)           (None, 125, 125, 16)      2320      \n",
      "                                                                 \n",
      " dropout_1 (Dropout)         (None, 125, 125, 16)      0         \n",
      "                                                                 \n",
      " max_pooling2d_1 (MaxPooling  (None, 62, 62, 16)       0         \n",
      " 2D)                                                             \n",
      "                                                                 \n",
      " conv2d_4 (Conv2D)           (None, 62, 62, 32)        4640      \n",
      "                                                                 \n",
      " conv2d_5 (Conv2D)           (None, 62, 62, 32)        9248      \n",
      "                                                                 \n",
      " dropout_2 (Dropout)         (None, 62, 62, 32)        0         \n",
      "                                                                 \n",
      " max_pooling2d_2 (MaxPooling  (None, 31, 31, 32)       0         \n",
      " 2D)                                                             \n",
      "                                                                 \n",
      " conv2d_6 (Conv2D)           (None, 31, 31, 64)        18496     \n",
      "                                                                 \n",
      " conv2d_7 (Conv2D)           (None, 31, 31, 64)        36928     \n",
      "                                                                 \n",
      " dropout_3 (Dropout)         (None, 31, 31, 64)        0         \n",
      "                                                                 \n",
      " max_pooling2d_3 (MaxPooling  (None, 15, 15, 64)       0         \n",
      " 2D)                                                             \n",
      "                                                                 \n",
      " flatten (Flatten)           (None, 14400)             0         \n",
      "                                                                 \n",
      " dense (Dense)               (None, 128)               1843328   \n",
      "                                                                 \n",
      " dropout_4 (Dropout)         (None, 128)               0         \n",
      "                                                                 \n",
      " dense_1 (Dense)             (None, 64)                8256      \n",
      "                                                                 \n",
      " dropout_5 (Dropout)         (None, 64)                0         \n",
      "                                                                 \n",
      " dense_2 (Dense)             (None, 32)                2080      \n",
      "                                                                 \n",
      " dropout_6 (Dropout)         (None, 32)                0         \n",
      "                                                                 \n",
      " dense_3 (Dense)             (None, 1)                 33        \n",
      "                                                                 \n",
      "=================================================================\n",
      "Total params: 1,927,305\n",
      "Trainable params: 1,927,305\n",
      "Non-trainable params: 0\n",
      "_________________________________________________________________\n"
     ]
    }
   ],
   "source": [
    "model.summary()"
   ]
  },
  {
   "cell_type": "code",
   "execution_count": 9,
   "id": "85ef3a27-1f54-4d83-9de5-657f9ea70bdc",
   "metadata": {},
   "outputs": [],
   "source": [
    "model.compile(optimizer=RMSprop(learning_rate=0.001), loss='binary_crossentropy', metrics = ['accuracy'])"
   ]
  },
  {
   "cell_type": "markdown",
   "id": "1345da09-fbbe-4d65-a534-4e23a2935212",
   "metadata": {},
   "source": [
    "## Training"
   ]
  },
  {
   "cell_type": "code",
   "execution_count": 10,
   "id": "7cb8693e-7827-4921-82f2-e4dd7b206f56",
   "metadata": {},
   "outputs": [],
   "source": [
    "class myCallback(tf.keras.callbacks.Callback):\n",
    "    def on_epoch_end(self, epoch, logs={}):\n",
    "        thresh = 0.92\n",
    "        if logs.get('accuracy') is not None and logs.get('accuracy') > thresh:\n",
    "            print(f\"\\nReached {thresh*100}% accuracy so finishing training!\") \n",
    "            self.model.stop_training = True"
   ]
  },
  {
   "cell_type": "code",
   "execution_count": 11,
   "id": "ecddeafc-9c33-42cc-8283-f1f5b1b2dac9",
   "metadata": {},
   "outputs": [
    {
     "name": "stdout",
     "output_type": "stream",
     "text": [
      "Epoch 1/50\n",
      "70/70 [==============================] - 61s 849ms/step - loss: 0.7028 - accuracy: 0.4729 - val_loss: 0.6932 - val_accuracy: 0.5000\n",
      "Epoch 2/50\n",
      "70/70 [==============================] - 45s 646ms/step - loss: 0.6989 - accuracy: 0.4929 - val_loss: 0.6932 - val_accuracy: 0.5000\n",
      "Epoch 3/50\n",
      "70/70 [==============================] - 72s 1s/step - loss: 0.6951 - accuracy: 0.5414 - val_loss: 0.6931 - val_accuracy: 0.5000\n",
      "Epoch 4/50\n",
      "70/70 [==============================] - 50s 715ms/step - loss: 0.6949 - accuracy: 0.4829 - val_loss: 0.6933 - val_accuracy: 0.5000\n",
      "Epoch 5/50\n",
      "70/70 [==============================] - 46s 653ms/step - loss: 0.6937 - accuracy: 0.5029 - val_loss: 0.6935 - val_accuracy: 0.5000\n",
      "Epoch 6/50\n",
      "70/70 [==============================] - 48s 681ms/step - loss: 0.6938 - accuracy: 0.4971 - val_loss: 0.6933 - val_accuracy: 0.5000\n",
      "Epoch 7/50\n",
      "70/70 [==============================] - 46s 657ms/step - loss: 0.6938 - accuracy: 0.4971 - val_loss: 0.6932 - val_accuracy: 0.5000\n",
      "Epoch 8/50\n",
      "70/70 [==============================] - 45s 640ms/step - loss: 0.6937 - accuracy: 0.4671 - val_loss: 0.6931 - val_accuracy: 0.5000\n",
      "Epoch 9/50\n",
      "70/70 [==============================] - 49s 698ms/step - loss: 0.6935 - accuracy: 0.4714 - val_loss: 0.6932 - val_accuracy: 0.5000\n",
      "Epoch 10/50\n",
      "70/70 [==============================] - 45s 635ms/step - loss: 0.6937 - accuracy: 0.4686 - val_loss: 0.6932 - val_accuracy: 0.5000\n",
      "Epoch 11/50\n",
      "70/70 [==============================] - 45s 640ms/step - loss: 0.6935 - accuracy: 0.4843 - val_loss: 0.6932 - val_accuracy: 0.5000\n",
      "Epoch 12/50\n",
      "70/70 [==============================] - 46s 655ms/step - loss: 0.6933 - accuracy: 0.5043 - val_loss: 0.6931 - val_accuracy: 0.5000\n",
      "Epoch 13/50\n",
      "70/70 [==============================] - 46s 663ms/step - loss: 0.6934 - accuracy: 0.5043 - val_loss: 0.6931 - val_accuracy: 0.5000\n",
      "Epoch 14/50\n",
      "70/70 [==============================] - 42s 601ms/step - loss: 0.6934 - accuracy: 0.5000 - val_loss: 0.6931 - val_accuracy: 0.5000\n",
      "Epoch 15/50\n",
      "70/70 [==============================] - 45s 635ms/step - loss: 0.6936 - accuracy: 0.4529 - val_loss: 0.6931 - val_accuracy: 0.5000\n",
      "Epoch 16/50\n",
      "70/70 [==============================] - 46s 655ms/step - loss: 0.6935 - accuracy: 0.4729 - val_loss: 0.6932 - val_accuracy: 0.5000\n",
      "Epoch 17/50\n",
      "70/70 [==============================] - 45s 635ms/step - loss: 0.6934 - accuracy: 0.4914 - val_loss: 0.6932 - val_accuracy: 0.5000\n",
      "Epoch 18/50\n",
      "70/70 [==============================] - 48s 689ms/step - loss: 0.6934 - accuracy: 0.4729 - val_loss: 0.6932 - val_accuracy: 0.5000\n",
      "Epoch 19/50\n",
      "70/70 [==============================] - 45s 644ms/step - loss: 0.6933 - accuracy: 0.4714 - val_loss: 0.6932 - val_accuracy: 0.5000\n",
      "Epoch 20/50\n",
      "70/70 [==============================] - 43s 613ms/step - loss: 0.6932 - accuracy: 0.5143 - val_loss: 0.6931 - val_accuracy: 0.5000\n",
      "Epoch 21/50\n",
      "70/70 [==============================] - 45s 647ms/step - loss: 0.6934 - accuracy: 0.5000 - val_loss: 0.6931 - val_accuracy: 0.5000\n",
      "Epoch 22/50\n",
      "70/70 [==============================] - 52s 747ms/step - loss: 0.6933 - accuracy: 0.4957 - val_loss: 0.6931 - val_accuracy: 0.5000\n",
      "Epoch 23/50\n",
      "70/70 [==============================] - 45s 643ms/step - loss: 0.6934 - accuracy: 0.4714 - val_loss: 0.6931 - val_accuracy: 0.5000\n",
      "Epoch 24/50\n",
      "70/70 [==============================] - 52s 745ms/step - loss: 0.6933 - accuracy: 0.5029 - val_loss: 0.6931 - val_accuracy: 0.5000\n",
      "Epoch 25/50\n",
      "70/70 [==============================] - 85s 1s/step - loss: 0.6933 - accuracy: 0.4914 - val_loss: 0.6931 - val_accuracy: 0.5000\n",
      "Epoch 26/50\n",
      "70/70 [==============================] - 74s 1s/step - loss: 0.6932 - accuracy: 0.5114 - val_loss: 0.6931 - val_accuracy: 0.5000\n",
      "Epoch 27/50\n",
      "70/70 [==============================] - 149s 2s/step - loss: 0.6936 - accuracy: 0.4714 - val_loss: 0.6931 - val_accuracy: 0.5000\n",
      "Epoch 28/50\n",
      "70/70 [==============================] - 131s 2s/step - loss: 0.6934 - accuracy: 0.4557 - val_loss: 0.6931 - val_accuracy: 0.5000\n",
      "Epoch 29/50\n",
      "70/70 [==============================] - 126s 2s/step - loss: 0.6932 - accuracy: 0.4986 - val_loss: 0.6932 - val_accuracy: 0.5000\n",
      "Epoch 30/50\n",
      "70/70 [==============================] - 160s 2s/step - loss: 0.6933 - accuracy: 0.4886 - val_loss: 0.6932 - val_accuracy: 0.5000\n",
      "Epoch 31/50\n",
      "70/70 [==============================] - 72s 1s/step - loss: 0.6931 - accuracy: 0.4957 - val_loss: 0.6932 - val_accuracy: 0.5000\n",
      "Epoch 32/50\n",
      "50/70 [====================>.........] - ETA: 12s - loss: 0.6932 - accuracy: 0.5120"
     ]
    },
    {
     "ename": "KeyboardInterrupt",
     "evalue": "",
     "output_type": "error",
     "traceback": [
      "\u001b[1;31m---------------------------------------------------------------------------\u001b[0m",
      "\u001b[1;31mKeyboardInterrupt\u001b[0m                         Traceback (most recent call last)",
      "\u001b[1;32m~\\AppData\\Local\\Temp/ipykernel_19648/3164773938.py\u001b[0m in \u001b[0;36m<module>\u001b[1;34m\u001b[0m\n\u001b[1;32m----> 1\u001b[1;33m history = model.fit(train_generator,\n\u001b[0m\u001b[0;32m      2\u001b[0m                     \u001b[0mepochs\u001b[0m\u001b[1;33m=\u001b[0m\u001b[1;36m50\u001b[0m\u001b[1;33m,\u001b[0m\u001b[1;33m\u001b[0m\u001b[1;33m\u001b[0m\u001b[0m\n\u001b[0;32m      3\u001b[0m                     \u001b[0msteps_per_epoch\u001b[0m\u001b[1;33m=\u001b[0m\u001b[0mlen\u001b[0m\u001b[1;33m(\u001b[0m\u001b[0mtrain_generator\u001b[0m\u001b[1;33m)\u001b[0m\u001b[1;33m,\u001b[0m\u001b[1;33m\u001b[0m\u001b[1;33m\u001b[0m\u001b[0m\n\u001b[0;32m      4\u001b[0m                     \u001b[0mvalidation_data\u001b[0m\u001b[1;33m=\u001b[0m\u001b[0mtest_generator\u001b[0m\u001b[1;33m,\u001b[0m\u001b[1;33m\u001b[0m\u001b[1;33m\u001b[0m\u001b[0m\n\u001b[0;32m      5\u001b[0m                     \u001b[0mvalidation_steps\u001b[0m\u001b[1;33m=\u001b[0m\u001b[0mlen\u001b[0m\u001b[1;33m(\u001b[0m\u001b[0mtest_generator\u001b[0m\u001b[1;33m)\u001b[0m\u001b[1;33m,\u001b[0m\u001b[1;33m\u001b[0m\u001b[1;33m\u001b[0m\u001b[0m\n",
      "\u001b[1;32mc:\\users\\canborda\\appdata\\local\\programs\\python\\python39\\lib\\site-packages\\keras\\utils\\traceback_utils.py\u001b[0m in \u001b[0;36merror_handler\u001b[1;34m(*args, **kwargs)\u001b[0m\n\u001b[0;32m     62\u001b[0m     \u001b[0mfiltered_tb\u001b[0m \u001b[1;33m=\u001b[0m \u001b[1;32mNone\u001b[0m\u001b[1;33m\u001b[0m\u001b[1;33m\u001b[0m\u001b[0m\n\u001b[0;32m     63\u001b[0m     \u001b[1;32mtry\u001b[0m\u001b[1;33m:\u001b[0m\u001b[1;33m\u001b[0m\u001b[1;33m\u001b[0m\u001b[0m\n\u001b[1;32m---> 64\u001b[1;33m       \u001b[1;32mreturn\u001b[0m \u001b[0mfn\u001b[0m\u001b[1;33m(\u001b[0m\u001b[1;33m*\u001b[0m\u001b[0margs\u001b[0m\u001b[1;33m,\u001b[0m \u001b[1;33m**\u001b[0m\u001b[0mkwargs\u001b[0m\u001b[1;33m)\u001b[0m\u001b[1;33m\u001b[0m\u001b[1;33m\u001b[0m\u001b[0m\n\u001b[0m\u001b[0;32m     65\u001b[0m     \u001b[1;32mexcept\u001b[0m \u001b[0mException\u001b[0m \u001b[1;32mas\u001b[0m \u001b[0me\u001b[0m\u001b[1;33m:\u001b[0m  \u001b[1;31m# pylint: disable=broad-except\u001b[0m\u001b[1;33m\u001b[0m\u001b[1;33m\u001b[0m\u001b[0m\n\u001b[0;32m     66\u001b[0m       \u001b[0mfiltered_tb\u001b[0m \u001b[1;33m=\u001b[0m \u001b[0m_process_traceback_frames\u001b[0m\u001b[1;33m(\u001b[0m\u001b[0me\u001b[0m\u001b[1;33m.\u001b[0m\u001b[0m__traceback__\u001b[0m\u001b[1;33m)\u001b[0m\u001b[1;33m\u001b[0m\u001b[1;33m\u001b[0m\u001b[0m\n",
      "\u001b[1;32mc:\\users\\canborda\\appdata\\local\\programs\\python\\python39\\lib\\site-packages\\keras\\engine\\training.py\u001b[0m in \u001b[0;36mfit\u001b[1;34m(self, x, y, batch_size, epochs, verbose, callbacks, validation_split, validation_data, shuffle, class_weight, sample_weight, initial_epoch, steps_per_epoch, validation_steps, validation_batch_size, validation_freq, max_queue_size, workers, use_multiprocessing)\u001b[0m\n\u001b[0;32m   1382\u001b[0m                 _r=1):\n\u001b[0;32m   1383\u001b[0m               \u001b[0mcallbacks\u001b[0m\u001b[1;33m.\u001b[0m\u001b[0mon_train_batch_begin\u001b[0m\u001b[1;33m(\u001b[0m\u001b[0mstep\u001b[0m\u001b[1;33m)\u001b[0m\u001b[1;33m\u001b[0m\u001b[1;33m\u001b[0m\u001b[0m\n\u001b[1;32m-> 1384\u001b[1;33m               \u001b[0mtmp_logs\u001b[0m \u001b[1;33m=\u001b[0m \u001b[0mself\u001b[0m\u001b[1;33m.\u001b[0m\u001b[0mtrain_function\u001b[0m\u001b[1;33m(\u001b[0m\u001b[0miterator\u001b[0m\u001b[1;33m)\u001b[0m\u001b[1;33m\u001b[0m\u001b[1;33m\u001b[0m\u001b[0m\n\u001b[0m\u001b[0;32m   1385\u001b[0m               \u001b[1;32mif\u001b[0m \u001b[0mdata_handler\u001b[0m\u001b[1;33m.\u001b[0m\u001b[0mshould_sync\u001b[0m\u001b[1;33m:\u001b[0m\u001b[1;33m\u001b[0m\u001b[1;33m\u001b[0m\u001b[0m\n\u001b[0;32m   1386\u001b[0m                 \u001b[0mcontext\u001b[0m\u001b[1;33m.\u001b[0m\u001b[0masync_wait\u001b[0m\u001b[1;33m(\u001b[0m\u001b[1;33m)\u001b[0m\u001b[1;33m\u001b[0m\u001b[1;33m\u001b[0m\u001b[0m\n",
      "\u001b[1;32mc:\\users\\canborda\\appdata\\local\\programs\\python\\python39\\lib\\site-packages\\tensorflow\\python\\util\\traceback_utils.py\u001b[0m in \u001b[0;36merror_handler\u001b[1;34m(*args, **kwargs)\u001b[0m\n\u001b[0;32m    148\u001b[0m     \u001b[0mfiltered_tb\u001b[0m \u001b[1;33m=\u001b[0m \u001b[1;32mNone\u001b[0m\u001b[1;33m\u001b[0m\u001b[1;33m\u001b[0m\u001b[0m\n\u001b[0;32m    149\u001b[0m     \u001b[1;32mtry\u001b[0m\u001b[1;33m:\u001b[0m\u001b[1;33m\u001b[0m\u001b[1;33m\u001b[0m\u001b[0m\n\u001b[1;32m--> 150\u001b[1;33m       \u001b[1;32mreturn\u001b[0m \u001b[0mfn\u001b[0m\u001b[1;33m(\u001b[0m\u001b[1;33m*\u001b[0m\u001b[0margs\u001b[0m\u001b[1;33m,\u001b[0m \u001b[1;33m**\u001b[0m\u001b[0mkwargs\u001b[0m\u001b[1;33m)\u001b[0m\u001b[1;33m\u001b[0m\u001b[1;33m\u001b[0m\u001b[0m\n\u001b[0m\u001b[0;32m    151\u001b[0m     \u001b[1;32mexcept\u001b[0m \u001b[0mException\u001b[0m \u001b[1;32mas\u001b[0m \u001b[0me\u001b[0m\u001b[1;33m:\u001b[0m\u001b[1;33m\u001b[0m\u001b[1;33m\u001b[0m\u001b[0m\n\u001b[0;32m    152\u001b[0m       \u001b[0mfiltered_tb\u001b[0m \u001b[1;33m=\u001b[0m \u001b[0m_process_traceback_frames\u001b[0m\u001b[1;33m(\u001b[0m\u001b[0me\u001b[0m\u001b[1;33m.\u001b[0m\u001b[0m__traceback__\u001b[0m\u001b[1;33m)\u001b[0m\u001b[1;33m\u001b[0m\u001b[1;33m\u001b[0m\u001b[0m\n",
      "\u001b[1;32mc:\\users\\canborda\\appdata\\local\\programs\\python\\python39\\lib\\site-packages\\tensorflow\\python\\eager\\def_function.py\u001b[0m in \u001b[0;36m__call__\u001b[1;34m(self, *args, **kwds)\u001b[0m\n\u001b[0;32m    913\u001b[0m \u001b[1;33m\u001b[0m\u001b[0m\n\u001b[0;32m    914\u001b[0m       \u001b[1;32mwith\u001b[0m \u001b[0mOptionalXlaContext\u001b[0m\u001b[1;33m(\u001b[0m\u001b[0mself\u001b[0m\u001b[1;33m.\u001b[0m\u001b[0m_jit_compile\u001b[0m\u001b[1;33m)\u001b[0m\u001b[1;33m:\u001b[0m\u001b[1;33m\u001b[0m\u001b[1;33m\u001b[0m\u001b[0m\n\u001b[1;32m--> 915\u001b[1;33m         \u001b[0mresult\u001b[0m \u001b[1;33m=\u001b[0m \u001b[0mself\u001b[0m\u001b[1;33m.\u001b[0m\u001b[0m_call\u001b[0m\u001b[1;33m(\u001b[0m\u001b[1;33m*\u001b[0m\u001b[0margs\u001b[0m\u001b[1;33m,\u001b[0m \u001b[1;33m**\u001b[0m\u001b[0mkwds\u001b[0m\u001b[1;33m)\u001b[0m\u001b[1;33m\u001b[0m\u001b[1;33m\u001b[0m\u001b[0m\n\u001b[0m\u001b[0;32m    916\u001b[0m \u001b[1;33m\u001b[0m\u001b[0m\n\u001b[0;32m    917\u001b[0m       \u001b[0mnew_tracing_count\u001b[0m \u001b[1;33m=\u001b[0m \u001b[0mself\u001b[0m\u001b[1;33m.\u001b[0m\u001b[0mexperimental_get_tracing_count\u001b[0m\u001b[1;33m(\u001b[0m\u001b[1;33m)\u001b[0m\u001b[1;33m\u001b[0m\u001b[1;33m\u001b[0m\u001b[0m\n",
      "\u001b[1;32mc:\\users\\canborda\\appdata\\local\\programs\\python\\python39\\lib\\site-packages\\tensorflow\\python\\eager\\def_function.py\u001b[0m in \u001b[0;36m_call\u001b[1;34m(self, *args, **kwds)\u001b[0m\n\u001b[0;32m    945\u001b[0m       \u001b[1;31m# In this case we have created variables on the first call, so we run the\u001b[0m\u001b[1;33m\u001b[0m\u001b[1;33m\u001b[0m\u001b[1;33m\u001b[0m\u001b[0m\n\u001b[0;32m    946\u001b[0m       \u001b[1;31m# defunned version which is guaranteed to never create variables.\u001b[0m\u001b[1;33m\u001b[0m\u001b[1;33m\u001b[0m\u001b[1;33m\u001b[0m\u001b[0m\n\u001b[1;32m--> 947\u001b[1;33m       \u001b[1;32mreturn\u001b[0m \u001b[0mself\u001b[0m\u001b[1;33m.\u001b[0m\u001b[0m_stateless_fn\u001b[0m\u001b[1;33m(\u001b[0m\u001b[1;33m*\u001b[0m\u001b[0margs\u001b[0m\u001b[1;33m,\u001b[0m \u001b[1;33m**\u001b[0m\u001b[0mkwds\u001b[0m\u001b[1;33m)\u001b[0m  \u001b[1;31m# pylint: disable=not-callable\u001b[0m\u001b[1;33m\u001b[0m\u001b[1;33m\u001b[0m\u001b[0m\n\u001b[0m\u001b[0;32m    948\u001b[0m     \u001b[1;32melif\u001b[0m \u001b[0mself\u001b[0m\u001b[1;33m.\u001b[0m\u001b[0m_stateful_fn\u001b[0m \u001b[1;32mis\u001b[0m \u001b[1;32mnot\u001b[0m \u001b[1;32mNone\u001b[0m\u001b[1;33m:\u001b[0m\u001b[1;33m\u001b[0m\u001b[1;33m\u001b[0m\u001b[0m\n\u001b[0;32m    949\u001b[0m       \u001b[1;31m# Release the lock early so that multiple threads can perform the call\u001b[0m\u001b[1;33m\u001b[0m\u001b[1;33m\u001b[0m\u001b[1;33m\u001b[0m\u001b[0m\n",
      "\u001b[1;32mc:\\users\\canborda\\appdata\\local\\programs\\python\\python39\\lib\\site-packages\\tensorflow\\python\\eager\\function.py\u001b[0m in \u001b[0;36m__call__\u001b[1;34m(self, *args, **kwargs)\u001b[0m\n\u001b[0;32m   2954\u001b[0m       (graph_function,\n\u001b[0;32m   2955\u001b[0m        filtered_flat_args) = self._maybe_define_function(args, kwargs)\n\u001b[1;32m-> 2956\u001b[1;33m     return graph_function._call_flat(\n\u001b[0m\u001b[0;32m   2957\u001b[0m         filtered_flat_args, captured_inputs=graph_function.captured_inputs)  # pylint: disable=protected-access\n\u001b[0;32m   2958\u001b[0m \u001b[1;33m\u001b[0m\u001b[0m\n",
      "\u001b[1;32mc:\\users\\canborda\\appdata\\local\\programs\\python\\python39\\lib\\site-packages\\tensorflow\\python\\eager\\function.py\u001b[0m in \u001b[0;36m_call_flat\u001b[1;34m(self, args, captured_inputs, cancellation_manager)\u001b[0m\n\u001b[0;32m   1851\u001b[0m         and executing_eagerly):\n\u001b[0;32m   1852\u001b[0m       \u001b[1;31m# No tape is watching; skip to running the function.\u001b[0m\u001b[1;33m\u001b[0m\u001b[1;33m\u001b[0m\u001b[1;33m\u001b[0m\u001b[0m\n\u001b[1;32m-> 1853\u001b[1;33m       return self._build_call_outputs(self._inference_function.call(\n\u001b[0m\u001b[0;32m   1854\u001b[0m           ctx, args, cancellation_manager=cancellation_manager))\n\u001b[0;32m   1855\u001b[0m     forward_backward = self._select_forward_and_backward_functions(\n",
      "\u001b[1;32mc:\\users\\canborda\\appdata\\local\\programs\\python\\python39\\lib\\site-packages\\tensorflow\\python\\eager\\function.py\u001b[0m in \u001b[0;36mcall\u001b[1;34m(self, ctx, args, cancellation_manager)\u001b[0m\n\u001b[0;32m    497\u001b[0m       \u001b[1;32mwith\u001b[0m \u001b[0m_InterpolateFunctionError\u001b[0m\u001b[1;33m(\u001b[0m\u001b[0mself\u001b[0m\u001b[1;33m)\u001b[0m\u001b[1;33m:\u001b[0m\u001b[1;33m\u001b[0m\u001b[1;33m\u001b[0m\u001b[0m\n\u001b[0;32m    498\u001b[0m         \u001b[1;32mif\u001b[0m \u001b[0mcancellation_manager\u001b[0m \u001b[1;32mis\u001b[0m \u001b[1;32mNone\u001b[0m\u001b[1;33m:\u001b[0m\u001b[1;33m\u001b[0m\u001b[1;33m\u001b[0m\u001b[0m\n\u001b[1;32m--> 499\u001b[1;33m           outputs = execute.execute(\n\u001b[0m\u001b[0;32m    500\u001b[0m               \u001b[0mstr\u001b[0m\u001b[1;33m(\u001b[0m\u001b[0mself\u001b[0m\u001b[1;33m.\u001b[0m\u001b[0msignature\u001b[0m\u001b[1;33m.\u001b[0m\u001b[0mname\u001b[0m\u001b[1;33m)\u001b[0m\u001b[1;33m,\u001b[0m\u001b[1;33m\u001b[0m\u001b[1;33m\u001b[0m\u001b[0m\n\u001b[0;32m    501\u001b[0m               \u001b[0mnum_outputs\u001b[0m\u001b[1;33m=\u001b[0m\u001b[0mself\u001b[0m\u001b[1;33m.\u001b[0m\u001b[0m_num_outputs\u001b[0m\u001b[1;33m,\u001b[0m\u001b[1;33m\u001b[0m\u001b[1;33m\u001b[0m\u001b[0m\n",
      "\u001b[1;32mc:\\users\\canborda\\appdata\\local\\programs\\python\\python39\\lib\\site-packages\\tensorflow\\python\\eager\\execute.py\u001b[0m in \u001b[0;36mquick_execute\u001b[1;34m(op_name, num_outputs, inputs, attrs, ctx, name)\u001b[0m\n\u001b[0;32m     52\u001b[0m   \u001b[1;32mtry\u001b[0m\u001b[1;33m:\u001b[0m\u001b[1;33m\u001b[0m\u001b[1;33m\u001b[0m\u001b[0m\n\u001b[0;32m     53\u001b[0m     \u001b[0mctx\u001b[0m\u001b[1;33m.\u001b[0m\u001b[0mensure_initialized\u001b[0m\u001b[1;33m(\u001b[0m\u001b[1;33m)\u001b[0m\u001b[1;33m\u001b[0m\u001b[1;33m\u001b[0m\u001b[0m\n\u001b[1;32m---> 54\u001b[1;33m     tensors = pywrap_tfe.TFE_Py_Execute(ctx._handle, device_name, op_name,\n\u001b[0m\u001b[0;32m     55\u001b[0m                                         inputs, attrs, num_outputs)\n\u001b[0;32m     56\u001b[0m   \u001b[1;32mexcept\u001b[0m \u001b[0mcore\u001b[0m\u001b[1;33m.\u001b[0m\u001b[0m_NotOkStatusException\u001b[0m \u001b[1;32mas\u001b[0m \u001b[0me\u001b[0m\u001b[1;33m:\u001b[0m\u001b[1;33m\u001b[0m\u001b[1;33m\u001b[0m\u001b[0m\n",
      "\u001b[1;31mKeyboardInterrupt\u001b[0m: "
     ]
    }
   ],
   "source": [
    "history = model.fit(train_generator,\n",
    "                    epochs=50,\n",
    "                    steps_per_epoch=len(train_generator),\n",
    "                    validation_data=test_generator,\n",
    "                    validation_steps=len(test_generator),\n",
    "                    callbacks=[myCallback()])"
   ]
  },
  {
   "cell_type": "markdown",
   "id": "15727fe3-8630-47cf-bfe5-65dd95c8202c",
   "metadata": {},
   "source": [
    "## Prediction"
   ]
  },
  {
   "cell_type": "code",
   "execution_count": null,
   "id": "c877cd25-30c3-4206-a435-8cb5a1bd647e",
   "metadata": {},
   "outputs": [],
   "source": [
    "path_set = 'test'\n",
    "validation_images = {\n",
    "    'healthy': [f'./dataset/{path_set}/healthy/' + img for img in os.listdir(f'./dataset/{path_set}/healthy')],\n",
    "    'damaged': [f'./dataset/{path_set}/damaged/' + img for img in os.listdir(f'./dataset/{path_set}/damaged')],\n",
    "}\n",
    "\n",
    "num_images = 5\n",
    "\n",
    "fig, axes = plt.subplots(len(validation_images), 1, constrained_layout=True, figsize=(18,10))\n",
    "for ax in axes: ax.remove()\n",
    "fig.suptitle(f'{path_set.upper()} PREDICTIONS', size=25, weight='bold')\n",
    "gridspec = axes[0].get_subplotspec().get_gridspec()\n",
    "subfigs = [fig.add_subfigure(gs) for gs in gridspec]\n",
    "\n",
    "for row, subfig in enumerate(subfigs):\n",
    "    # Random select class\n",
    "    label = list(validation_images.keys())[row]\n",
    "    paths = rd.sample(validation_images[label], num_images)\n",
    "    # Configure row subplot\n",
    "    subfig.suptitle(f'\\n\\nExpected Class: {label}', size=20, color='orange')\n",
    "    axes = subfig.subplots(1, num_images)\n",
    "    for col, ax in enumerate(axes):\n",
    "        # Select image\n",
    "        img = image.load_img(paths[col], target_size=(250,250))\n",
    "        x = image.img_to_array(img) / 255.\n",
    "        x = np.expand_dims(x, axis=0)\n",
    "        pred_value = model.predict(np.vstack([x]), batch_size=1)\n",
    "        pred_label = 'healthy' if pred_value[0] > 0.5 else 'damaged'\n",
    "        # Show predicted image and label\n",
    "        ax.set_title(f'Predicted Class: {pred_label}')\n",
    "        ax.imshow(img)"
   ]
  },
  {
   "cell_type": "markdown",
   "id": "af7f0d82-398b-4bdc-b8a0-987585d2e025",
   "metadata": {},
   "source": [
    "## Accuracy and Loss evaluation"
   ]
  },
  {
   "cell_type": "code",
   "execution_count": null,
   "id": "f0d7ce0b-1d3e-46d4-9a54-0ab03c02223b",
   "metadata": {},
   "outputs": [],
   "source": [
    "# Retrieve a list of list results on training and test data sets for each training epoch\n",
    "acc=history.history['accuracy']\n",
    "val_acc=history.history['val_accuracy']\n",
    "loss=history.history['loss']\n",
    "val_loss=history.history['val_loss']\n",
    "\n",
    "epochs=range(len(acc)) # Get number of epochs\n",
    "\n",
    "# Plot training and validation accuracy per epoch\n",
    "plt.plot(epochs, acc, 'r', \"Training Accuracy\")\n",
    "plt.plot(epochs, val_acc, 'b', \"Validation Accuracy\")\n",
    "plt.legend(['train', 'test'])\n",
    "plt.title('Training and validation accuracy')\n",
    "plt.show()\n",
    "print(\"\")\n",
    "\n",
    "# Plot training and validation loss per epoch\n",
    "plt.plot(epochs, loss, 'r', \"Training Loss\")\n",
    "plt.plot(epochs, val_loss, 'b', \"Validation Loss\")\n",
    "plt.legend(['train', 'test'])\n",
    "plt.show()"
   ]
  },
  {
   "cell_type": "markdown",
   "id": "969e080a-ac3d-433f-afc8-17352ab4de41",
   "metadata": {},
   "source": [
    "## Save trained model"
   ]
  },
  {
   "cell_type": "code",
   "execution_count": null,
   "id": "c27dc034-474d-4e2c-b975-536eee707931",
   "metadata": {},
   "outputs": [],
   "source": [
    "model.save_weights('./checkpoints/last_training')"
   ]
  },
  {
   "cell_type": "code",
   "execution_count": null,
   "id": "98a8e126-b691-4bfb-8c23-ced70bbdff3a",
   "metadata": {},
   "outputs": [],
   "source": []
  }
 ],
 "metadata": {
  "kernelspec": {
   "display_name": "Python 3 (ipykernel)",
   "language": "python",
   "name": "python3"
  },
  "language_info": {
   "codemirror_mode": {
    "name": "ipython",
    "version": 3
   },
   "file_extension": ".py",
   "mimetype": "text/x-python",
   "name": "python",
   "nbconvert_exporter": "python",
   "pygments_lexer": "ipython3",
   "version": "3.9.6"
  }
 },
 "nbformat": 4,
 "nbformat_minor": 5
}
